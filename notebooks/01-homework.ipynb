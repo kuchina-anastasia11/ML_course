{
 "cells": [
  {
   "cell_type": "code",
   "execution_count": 5,
   "metadata": {},
   "outputs": [],
   "source": [
    "## EASY\n",
    "\n",
    "def func(input_list: list) -> dict:\n",
    "  ans = {'mean' : None, 'median' : None, 'mode' : None}\n",
    "  if len(input_list) == 0:\n",
    "    return ans\n",
    "  # find mean\n",
    "  ans['mean'] = round(sum(input_list)/len(input_list), 5)\n",
    "\n",
    "  # find median\n",
    "  input_list.sort()\n",
    "  if len(input_list) % 2 != 0:\n",
    "    ans['median'] = input_list[len(input_list) // 2]\n",
    "  else:\n",
    "    ans['median'] = (input_list[len(input_list) // 2 - 1] + input_list[len(input_list) // 2]) / 2\n",
    "  \n",
    "  # find mode\n",
    "  max_count = 0\n",
    "  ans['mode'] = input_list[0]\n",
    "  for i in input_list:\n",
    "    curr_bool =  [int(input_list[j] == i)  for j in range(len(input_list))] # иммитируем функцию np.count_nonzeroes -- для подсчета колва раз каждого элемента в листе делаем булевый список \n",
    "    #print(sum(curr_bool))\n",
    "    if max_count < sum(curr_bool):\n",
    "      max_count = max(max_count, sum(curr_bool))\n",
    "      ans['mode'] = i\n",
    "\n",
    "  return ans"
   ]
  },
  {
   "cell_type": "code",
   "execution_count": 6,
   "metadata": {},
   "outputs": [],
   "source": [
    "##Medium\n",
    "def parse_csv(file_content: str) -> list[dict]:\n",
    "  rows = file_content.split('\\n') # list of rows\n",
    "  columns = ['#', 'attack_type', 'id', 'legs', 'localized_name', 'name', 'primary_attr', 'roles']\n",
    "  ans = []\n",
    "  for i, row in enumerate(rows):\n",
    "    if i != 0 and row != '': # we don't need first and last empty rows\n",
    "      # column 'roles' is different, that why lets get it from row \n",
    "      row_roles = row.split('[')[1]\n",
    "      row = row.replace('\"['+row_roles, '').split(',') # delete raw_roles; every column separated by ',', thats why lets split it by ','\n",
    "      curr_row = {'#' : None, 'attack_type' : None, 'id' : None, 'legs' : None, 'localized_name' : None,  'name' : None, 'primary_attr' : None, 'roles' : None}\n",
    "\n",
    "      for ind, col in enumerate(columns):\n",
    "        if(col != 'roles'):\n",
    "          curr_row[col] = row[ind] \n",
    "        else:\n",
    "          curr_row[col] = '['+row_roles.replace('\"', '')\n",
    "        #print(col, ':', curr_row[col])\n",
    "      ans.append(curr_row)\n",
    "\n",
    "  return ans"
   ]
  },
  {
   "cell_type": "code",
   "execution_count": 9,
   "metadata": {},
   "outputs": [
    {
     "name": "stdout",
     "output_type": "stream",
     "text": [
      "Broodmother\n"
     ]
    }
   ],
   "source": [
    "with open('/Users/anastasiakucina/project/ML_course/data/dota_hero_stats.csv') as file_content:\n",
    "    df = parse_csv(file_content.read())\n",
    "    max_legs = -1\n",
    "    max_legs_hero = ''\n",
    "    for row in df:\n",
    "      if int(row['legs']) > max_legs:\n",
    "        max_legs = int(row['legs'])\n",
    "        max_legs_name = row['localized_name']\n",
    "\n",
    "    print(max_legs_name)"
   ]
  },
  {
   "cell_type": "code",
   "execution_count": null,
   "metadata": {},
   "outputs": [],
   "source": []
  }
 ],
 "metadata": {
  "kernelspec": {
   "display_name": "Python 3",
   "language": "python",
   "name": "python3"
  },
  "language_info": {
   "codemirror_mode": {
    "name": "ipython",
    "version": 3
   },
   "file_extension": ".py",
   "mimetype": "text/x-python",
   "name": "python",
   "nbconvert_exporter": "python",
   "pygments_lexer": "ipython3",
   "version": "3.11.6"
  }
 },
 "nbformat": 4,
 "nbformat_minor": 2
}
